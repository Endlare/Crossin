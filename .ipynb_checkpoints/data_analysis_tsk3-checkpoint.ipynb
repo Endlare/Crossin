{
 "cells": [
  {
   "cell_type": "code",
   "execution_count": 15,
   "metadata": {},
   "outputs": [
    {
     "name": "stdout",
     "output_type": "stream",
     "text": [
      "[7 5 4 9 8]\n",
      "{'a': 7, 'b': 5, 'c': 4, 'd': 9, 'e': 8}\n",
      "a    7\n",
      "b    5\n",
      "c    4\n",
      "d    9\n",
      "e    8\n",
      "dtype: int64\n"
     ]
    }
   ],
   "source": [
    "import numpy as np\n",
    "import pandas as pd\n",
    "import random\n",
    "\n",
    "data = list(range(4,10))\n",
    "data1=np.array(random.sample(data,5))\n",
    "print(data1)\n",
    "names = ['a','b','c','d','e']\n",
    "\n",
    "d = {}\n",
    "for i in range(len(names)):\n",
    "    d[names[i]] = data1[i]\n",
    "print(d)\n",
    "\n",
    "data = pd.Series(d)\n",
    "print(data)"
   ]
  },
  {
   "cell_type": "code",
   "execution_count": 18,
   "metadata": {},
   "outputs": [
    {
     "name": "stdout",
     "output_type": "stream",
     "text": [
      "c    4\n",
      "d    9\n",
      "e    8\n",
      "dtype: int64\n",
      "c    4\n",
      "d    9\n",
      "e    8\n",
      "dtype: int64\n"
     ]
    }
   ],
   "source": [
    "print(data[-3:])\n",
    "print(data['c':'e'])"
   ]
  },
  {
   "cell_type": "code",
   "execution_count": 19,
   "metadata": {},
   "outputs": [
    {
     "name": "stdout",
     "output_type": "stream",
     "text": [
      "   year  price\n",
      "0  2017     10\n",
      "1  2018     20\n",
      "2  2019     30\n"
     ]
    }
   ],
   "source": [
    "d ={'year':{'0':2017,'1':2018,'2':2019},\n",
    "    'price':{'0':10,'1':20,'2':30}}\n",
    "data2 = pd.DataFrame(d,index=list('012'),columns=['year','price'])\n",
    "print(data2)"
   ]
  },
  {
   "cell_type": "code",
   "execution_count": 46,
   "metadata": {},
   "outputs": [
    {
     "name": "stdout",
     "output_type": "stream",
     "text": [
      "   one  two  three\n",
      "a    7   10     13\n",
      "c   11   14      5\n",
      "e   13    9     14\n",
      "f    9    9      5\n",
      "h   12   13     11\n"
     ]
    }
   ],
   "source": [
    "arr = np.random.randint(5,15,(5,3))\n",
    "data3 = pd.DataFrame(arr,index=list('acefh'),columns=['one','two','three'])\n",
    "print(data3)"
   ]
  },
  {
   "cell_type": "code",
   "execution_count": 52,
   "metadata": {},
   "outputs": [
    {
     "name": "stdout",
     "output_type": "stream",
     "text": [
      "   one  two  three  four\n",
      "a  NaN -100     13  test\n",
      "c   11  -99    -99  test\n",
      "e   13    9     14  test\n",
      "f    9    9      5  test\n",
      "h   12   13     11  test\n"
     ]
    },
    {
     "data": {
      "text/html": [
       "<div>\n",
       "<style scoped>\n",
       "    .dataframe tbody tr th:only-of-type {\n",
       "        vertical-align: middle;\n",
       "    }\n",
       "\n",
       "    .dataframe tbody tr th {\n",
       "        vertical-align: top;\n",
       "    }\n",
       "\n",
       "    .dataframe thead th {\n",
       "        text-align: right;\n",
       "    }\n",
       "</style>\n",
       "<table border=\"1\" class=\"dataframe\">\n",
       "  <thead>\n",
       "    <tr style=\"text-align: right;\">\n",
       "      <th></th>\n",
       "      <th>one</th>\n",
       "      <th>two</th>\n",
       "      <th>three</th>\n",
       "      <th>four</th>\n",
       "    </tr>\n",
       "  </thead>\n",
       "  <tbody>\n",
       "    <tr>\n",
       "      <th>a</th>\n",
       "      <td>NaN</td>\n",
       "      <td>-100.0</td>\n",
       "      <td>13.0</td>\n",
       "      <td>test</td>\n",
       "    </tr>\n",
       "    <tr>\n",
       "      <th>b</th>\n",
       "      <td>NaN</td>\n",
       "      <td>NaN</td>\n",
       "      <td>NaN</td>\n",
       "      <td>NaN</td>\n",
       "    </tr>\n",
       "    <tr>\n",
       "      <th>c</th>\n",
       "      <td>11</td>\n",
       "      <td>-99.0</td>\n",
       "      <td>-99.0</td>\n",
       "      <td>test</td>\n",
       "    </tr>\n",
       "    <tr>\n",
       "      <th>e</th>\n",
       "      <td>13</td>\n",
       "      <td>9.0</td>\n",
       "      <td>14.0</td>\n",
       "      <td>test</td>\n",
       "    </tr>\n",
       "    <tr>\n",
       "      <th>d</th>\n",
       "      <td>NaN</td>\n",
       "      <td>NaN</td>\n",
       "      <td>NaN</td>\n",
       "      <td>NaN</td>\n",
       "    </tr>\n",
       "    <tr>\n",
       "      <th>e</th>\n",
       "      <td>13</td>\n",
       "      <td>9.0</td>\n",
       "      <td>14.0</td>\n",
       "      <td>test</td>\n",
       "    </tr>\n",
       "    <tr>\n",
       "      <th>f</th>\n",
       "      <td>9</td>\n",
       "      <td>9.0</td>\n",
       "      <td>5.0</td>\n",
       "      <td>test</td>\n",
       "    </tr>\n",
       "    <tr>\n",
       "      <th>g</th>\n",
       "      <td>NaN</td>\n",
       "      <td>NaN</td>\n",
       "      <td>NaN</td>\n",
       "      <td>NaN</td>\n",
       "    </tr>\n",
       "    <tr>\n",
       "      <th>h</th>\n",
       "      <td>12</td>\n",
       "      <td>13.0</td>\n",
       "      <td>11.0</td>\n",
       "      <td>test</td>\n",
       "    </tr>\n",
       "  </tbody>\n",
       "</table>\n",
       "</div>"
      ],
      "text/plain": [
       "   one    two  three  four\n",
       "a  NaN -100.0   13.0  test\n",
       "b  NaN    NaN    NaN   NaN\n",
       "c   11  -99.0  -99.0  test\n",
       "e   13    9.0   14.0  test\n",
       "d  NaN    NaN    NaN   NaN\n",
       "e   13    9.0   14.0  test\n",
       "f    9    9.0    5.0  test\n",
       "g  NaN    NaN    NaN   NaN\n",
       "h   12   13.0   11.0  test"
      ]
     },
     "execution_count": 52,
     "metadata": {},
     "output_type": "execute_result"
    }
   ],
   "source": [
    "df_change = data3\n",
    "df_change.loc['a',['one','two']] = [float('nan'),-100]\n",
    "df_change.loc['c',['two','three']] = -99\n",
    "df_change.loc[list('acefh'),'four'] = 'test'\n",
    "print(df_change)\n",
    "df_change = df_change.reindex(index=list('abcedefgh'))\n",
    "df_change"
   ]
  },
  {
   "cell_type": "code",
   "execution_count": 59,
   "metadata": {},
   "outputs": [
    {
     "name": "stdout",
     "output_type": "stream",
     "text": [
      "  one   two  three  four\n",
      "c  11 -99.0  -99.0  test\n",
      "e  13   9.0   14.0  test\n",
      "e  13   9.0   14.0  test\n",
      "f   9   9.0    5.0  test\n",
      "h  12  13.0   11.0  test\n",
      "\n",
      "\n",
      "   one    two  three  four\n",
      "a  NaN -100.0   13.0  test\n",
      "c   11  -99.0  -99.0  test\n",
      "e   13    9.0   14.0  test\n",
      "e   13    9.0   14.0  test\n",
      "f    9    9.0    5.0  test\n",
      "h   12   13.0   11.0  test\n",
      "\n",
      "\n",
      "   one    two  three  four\n",
      "a    0 -100.0   13.0  test\n",
      "b    0    0.0    0.0     0\n",
      "c   11  -99.0  -99.0  test\n",
      "e   13    9.0   14.0  test\n",
      "d    0    0.0    0.0     0\n",
      "e   13    9.0   14.0  test\n",
      "f    9    9.0    5.0  test\n",
      "g    0    0.0    0.0     0\n",
      "h   12   13.0   11.0  test\n"
     ]
    }
   ],
   "source": [
    "print(df_change.dropna())\n",
    "print('\\n')\n",
    "print(df_change.dropna(how='all'))\n",
    "print('\\n')\n",
    "print(df_change.fillna(0))"
   ]
  },
  {
   "cell_type": "code",
   "execution_count": 60,
   "metadata": {},
   "outputs": [
    {
     "name": "stdout",
     "output_type": "stream",
     "text": [
      "   one    two  three  four\n",
      "a  NaN -100.0   13.0  test\n",
      "b  NaN    NaN    NaN   NaN\n",
      "c   11  -99.0  -99.0  test\n",
      "e   13    9.0   14.0  test\n",
      "f    9    9.0    5.0  test\n",
      "h   12   13.0   11.0  test\n"
     ]
    }
   ],
   "source": [
    "print(df_change.drop_duplicates())"
   ]
  }
 ],
 "metadata": {
  "kernelspec": {
   "display_name": "Python 3",
   "language": "python",
   "name": "python3"
  },
  "language_info": {
   "codemirror_mode": {
    "name": "ipython",
    "version": 3
   },
   "file_extension": ".py",
   "mimetype": "text/x-python",
   "name": "python",
   "nbconvert_exporter": "python",
   "pygments_lexer": "ipython3",
   "version": "3.7.6"
  }
 },
 "nbformat": 4,
 "nbformat_minor": 4
}
