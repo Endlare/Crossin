{
 "cells": [
  {
   "cell_type": "markdown",
   "metadata": {},
   "source": [
    "## Task1: 天气查询"
   ]
  },
  {
   "cell_type": "code",
   "execution_count": null,
   "metadata": {},
   "outputs": [],
   "source": [
    "import requests\n",
    "\n",
    "while True:\n",
    "    city = input('请输入城市,回车退出:\\n')\n",
    "    if not city:\n",
    "        break\n",
    "    try:\n",
    "        req = requests.get('http://wthrcdn.etouch.cn/weather_mini?city=%s' % city)\n",
    "    except:\n",
    "        print(\"查询失败\\n\")\n",
    "        break\n",
    "    dic_city = req.json()\n",
    "    city_data = dic_city.get('data')\n",
    "    if city_data:\n",
    "        city_forecast = city_data['forecast'][0] # 下面的都可以换成'get'方法\n",
    "        print(city_forecast.get('date'))\n",
    "        print(city_forecast.get('high'))\n",
    "        print(city_forecast.get('low'))\n",
    "        print(city_forecast.get('type'))\n",
    "    else:\n",
    "        print('未获得')\n"
   ]
  },
  {
   "cell_type": "code",
   "execution_count": null,
   "metadata": {},
   "outputs": [],
   "source": []
  }
 ],
 "metadata": {
  "kernelspec": {
   "display_name": "Python 3",
   "language": "python",
   "name": "python3"
  },
  "language_info": {
   "codemirror_mode": {
    "name": "ipython",
    "version": 3
   },
   "file_extension": ".py",
   "mimetype": "text/x-python",
   "name": "python",
   "nbconvert_exporter": "python",
   "pygments_lexer": "ipython3",
   "version": "3.7.6"
  }
 },
 "nbformat": 4,
 "nbformat_minor": 4
}
