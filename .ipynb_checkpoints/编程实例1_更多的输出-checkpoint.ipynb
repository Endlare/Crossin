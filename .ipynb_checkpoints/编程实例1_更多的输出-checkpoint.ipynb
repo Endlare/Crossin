{
 "cells": [
  {
   "cell_type": "code",
   "execution_count": 3,
   "metadata": {},
   "outputs": [
    {
     "name": "stdout",
     "output_type": "stream",
     "text": [
      "Endlare\n",
      "0.8571428571428572\n",
      "This is the first line This is also the first line\n",
      "Here occupies one line, \n",
      "here occupies another line\n",
      "\n"
     ]
    }
   ],
   "source": [
    "'''\n",
    "1 打印自己的英文昵称\n",
    "2 打印一个含有加减乘除的数学表达式\n",
    "3 使用两次 print 语句，但只显示一行\n",
    "4 使用一次 print 语句，但显示在两行中\n",
    "'''\n",
    "\n",
    "print(\"Endlare\")\n",
    "print(1+2-3*5/7)\n",
    "\n",
    "\n",
    "print(\"This is the first line\", end= ' ')\n",
    "print(\"This is also the first line\")\n",
    "\n",
    "print('Here occupies one line, \\nhere occupies another line')\n",
    "print()\n"
   ]
  }
 ],
 "metadata": {
  "kernelspec": {
   "display_name": "Python 3",
   "language": "python",
   "name": "python3"
  },
  "language_info": {
   "codemirror_mode": {
    "name": "ipython",
    "version": 3
   },
   "file_extension": ".py",
   "mimetype": "text/x-python",
   "name": "python",
   "nbconvert_exporter": "python",
   "pygments_lexer": "ipython3",
   "version": "3.7.6"
  }
 },
 "nbformat": 4,
 "nbformat_minor": 4
}
