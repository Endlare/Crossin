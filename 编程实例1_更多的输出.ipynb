{
 "cells": [
  {
   "cell_type": "markdown",
   "metadata": {},
   "source": [
    "### 示例1：更多的输出"
   ]
  },
  {
   "cell_type": "code",
   "execution_count": null,
   "metadata": {},
   "outputs": [],
   "source": [
    "'''\n",
    "1 打印自己的英文昵称\n",
    "2 打印一个含有加减乘除的数学表达式\n",
    "3 使用两次 print 语句，但只显示一行\n",
    "4 使用一次 print 语句，但显示在两行中\n",
    "'''\n",
    "\n",
    "print(\"Endlare\")\n",
    "print(1+2-3*5/7)\n",
    "\n",
    "\n",
    "print(\"This is the first line\", end= ' ')\n",
    "print(\"This is also the first line\")\n",
    "\n",
    "print('Here occupies one line, \\nhere occupies another line')\n",
    "print()"
   ]
  },
  {
   "cell_type": "markdown",
   "metadata": {},
   "source": [
    "### 示例2：各种变量"
   ]
  },
  {
   "cell_type": "code",
   "execution_count": 9,
   "metadata": {},
   "outputs": [
    {
     "name": "stdout",
     "output_type": "stream",
     "text": [
      "hello, world\n",
      "1.414\n",
      "True\n",
      "False\n",
      "True\n",
      "a:hello, world; b:1.41; c:True; d:False; e:True\n",
      "\n",
      "'hello world'\n",
      "\\\"hello world\"\n"
     ]
    }
   ],
   "source": [
    "a = 'hello, world'\n",
    "b = 1.414\n",
    "c = 1!=2\n",
    "d = True and False\n",
    "e = True or False\n",
    "\n",
    "print(a)\n",
    "print(b)\n",
    "print(c)\n",
    "print(d)\n",
    "print(e)\n",
    "\n",
    "print(\"a:%s; b:%.2f; c:%s; d:%s; e:%s\" % (a, b, c, d, e))\n",
    "print()\n",
    "print(\"'hello world'\\n\\\\\\\"hello world\\\"\")"
   ]
  },
  {
   "cell_type": "code",
   "execution_count": null,
   "metadata": {},
   "outputs": [],
   "source": []
  }
 ],
 "metadata": {
  "kernelspec": {
   "display_name": "Python 3",
   "language": "python",
   "name": "python3"
  },
  "language_info": {
   "codemirror_mode": {
    "name": "ipython",
    "version": 3
   },
   "file_extension": ".py",
   "mimetype": "text/x-python",
   "name": "python",
   "nbconvert_exporter": "python",
   "pygments_lexer": "ipython3",
   "version": "3.7.6"
  }
 },
 "nbformat": 4,
 "nbformat_minor": 4
}
