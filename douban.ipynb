{
 "cells": [
  {
   "cell_type": "code",
   "execution_count": 25,
   "metadata": {},
   "outputs": [],
   "source": [
    "import requests\n",
    "from time import sleep\n",
    "import csv\n",
    "\n",
    "url = 'https://api.douban.com/v2/movie/1292052?apikey=0df993c66c0c636e29ecbb5344252a4a'\n",
    "req = requests.get(url, headers={'user-agent':'chrome'})\n"
   ]
  },
  {
   "cell_type": "code",
   "execution_count": 10,
   "metadata": {},
   "outputs": [],
   "source": [
    "shawshank = req.json()\n",
    "img_url = shawshank.get('image')\n",
    "req2 = requests.get(img_url, headers={'user-agent':'chrome'})\n",
    "img = req2.content\n",
    "out = open(\"shawshank.jpg\",'wb')\n",
    "out.write(img)\n",
    "out.close()"
   ]
  },
  {
   "cell_type": "code",
   "execution_count": 43,
   "metadata": {},
   "outputs": [],
   "source": [
    "headers = ['电影名','评分','卡司','海报']\n",
    "with open('douban250.csv','w') as f:\n",
    "  f_csv = csv.writer(f)\n",
    "  f_csv.writerow(headers)\n",
    "    \n",
    "  for start in range(0,250,20):\n",
    "    url = \"https://api.douban.com/v2/movie/top250?start=%d&apikey=0df993c66c0c636e29ecbb5344252a4a\" % (start)\n",
    "    req = requests.get(url, headers={'user-agent':'chrome'})\n",
    "    dat = req.json()\n",
    "    subjects = dat['subjects']\n",
    "    for subject in subjects:\n",
    "      casts = subject['casts']\n",
    "      casts = \",\".join([x['name'] for x in casts])\n",
    "      row = [subject['title'],subject['rating']['average'],casts,subject['images']['medium']]\n",
    "      f_csv.writerow(row)\n",
    "    sleep(3)\n",
    "\n",
    "f.close()"
   ]
  },
  {
   "cell_type": "code",
   "execution_count": 45,
   "metadata": {},
   "outputs": [],
   "source": [
    "with open('douban250.csv') as f:\n",
    "  f_csv = csv.DictReader(f)\n",
    "  for row in f_csv:\n",
    "    img_url = row['海报']\n",
    "    req2 = requests.get(img_url, headers={'user-agent':'chrome'})\n",
    "    img = req2.content\n",
    "    out = open(\"/Users/zhezhang/Downloads/%s.jpg\" % (row['电影名']),'wb')\n",
    "    out.write(img)\n",
    "    out.close()\n",
    "    sleep(3)"
   ]
  }
 ],
 "metadata": {
  "kernelspec": {
   "display_name": "Python 3",
   "language": "python",
   "name": "python3"
  },
  "language_info": {
   "codemirror_mode": {
    "name": "ipython",
    "version": 3
   },
   "file_extension": ".py",
   "mimetype": "text/x-python",
   "name": "python",
   "nbconvert_exporter": "python",
   "pygments_lexer": "ipython3",
   "version": "3.7.6"
  }
 },
 "nbformat": 4,
 "nbformat_minor": 4
}
