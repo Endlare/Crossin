{
 "cells": [
  {
   "cell_type": "code",
   "execution_count": 6,
   "metadata": {},
   "outputs": [],
   "source": [
    "import requests\n",
    "\n",
    "url = 'https://weibo.com/a/hot/realtime'\n",
    "header = {'Accept': 'text/html,application/xhtml+xml,application/xml;q=0.9,image/webp,image/apng,*/*;q=0.8,application/signed-exchange;v=b3',\n",
    "          'Accept-Encoding': 'gzip, deflate, br',\n",
    "          'Accept-Language': 'zh-CN,zh;q=0.9,en;q=0.8',\n",
    "          'Connection': 'keep-alive',\n",
    "          'Cookie': 'SINAGLOBAL=8798103526902.67.1561970393336; un=zz33286108@163.com; UOR=,,www.baidu.com; Ugrow-G0=7e0e6b57abe2c2f76f677abd9a9ed65d; SSOLoginState=1586228901; YF-V5-G0=125128c5d7f9f51f96971f11468b5a3f; _s_tentry=login.sina.com.cn; Apache=6751605865814.243.1586228904670; ULV=1586228904691:48:1:3:6751605865814.243.1586228904670:1585644271869; login_sid_t=72a33238fb8d914fb9b4e5b297a18b6b; cross_origin_proto=SSL; ALF=1618812328; SCF=Ah4cSOGiKNv54QGw6G_DIrdMTnCYgzSKWOE7qU8bEWt5JlXOMICVejjZXRJuX41zcBxYh7f_QrPD3bgEWP1UPZ8.; SUHB=0d4_C0t6Levals; wvr=6; YF-Page-G0=38e1bd6d1ce9da7195efc2a58bc764b3|1587358449|1587358449; wb_view_log_2042137905=1440*9002; webim_unReadCount=%7B%22time%22%3A1587359828159%2C%22dm_pub_total%22%3A2%2C%22chat_group_client%22%3A0%2C%22chat_group_notice%22%3A0%2C%22allcountNum%22%3A2%2C%22msgbox%22%3A0%7D; SUBP=0033WrSXqPxfM72-Ws9jqgMF55529P9D9WhpP0QG1Kl3dk26wzTA77vO; WBStorage=42212210b087ca50|undefined; SUB=_2AkMpwQT7f8NxqwJRmPoTyG7ja49zwwzEieKfnfUgJRMxHRl-yj9kqkU6tRB6AkEqFBqLbIXQahX2dV_LqypfEJ5LuzPm',\n",
    "          'Host': 'weibo.com',\n",
    "          'If-Modified-Since': 'Mon, 20 Apr 2020 11:48:05 GMT',\n",
    "          'Sec-Fetch-Mode': 'navigate',\n",
    "          'Sec-Fetch-Site': 'none',\n",
    "          'Upgrade-Insecure-Requests': '1',\n",
    "          'User-Agent': 'Mozilla/5.0 (Macintosh; Intel Mac OS X 10_15_3) AppleWebKit/537.36 (KHTML, like Gecko) Chrome/77.0.3865.90 Safari/537.36'}\n",
    "r = requests.get(url, headers=header)\n",
    "\n",
    "with open(\"weibo_realtime.html\",'w') as f:\n",
    "    f.write(r.text)\n",
    "\n",
    "f.close()\n",
    "\n"
   ]
  }
 ],
 "metadata": {
  "kernelspec": {
   "display_name": "Python 3",
   "language": "python",
   "name": "python3"
  },
  "language_info": {
   "codemirror_mode": {
    "name": "ipython",
    "version": 3
   },
   "file_extension": ".py",
   "mimetype": "text/x-python",
   "name": "python",
   "nbconvert_exporter": "python",
   "pygments_lexer": "ipython3",
   "version": "3.7.6"
  }
 },
 "nbformat": 4,
 "nbformat_minor": 4
}
